{
 "cells": [
  {
   "cell_type": "code",
   "execution_count": 1,
   "metadata": {},
   "outputs": [
    {
     "data": {
      "text/plain": [
       "True"
      ]
     },
     "execution_count": 1,
     "metadata": {},
     "output_type": "execute_result"
    }
   ],
   "source": [
    "from langchain_core.prompts import ChatPromptTemplate, FewShotChatMessagePromptTemplate\n",
    "from dotenv import load_dotenv\n",
    "load_dotenv()\n"
   ]
  },
  {
   "cell_type": "code",
   "execution_count": 2,
   "metadata": {},
   "outputs": [],
   "source": [
    "#update this to the prompts you're using\n",
    "examples = [\n",
    "    {\"input\": \"Tell me a dad joke. The joke should be in a story format.\", \"output\": \"Once upon a time, there was a man who loved to tell dad jokes. One day, he decided to start a business selling shoes made out of banana peels. When asked why he chose such a strange business idea, he replied, 'I wanted to make sure everyone had a-peeling footwear!'\"},\n",
    "    {\"input\": \"Tell me a dad joke. The joke should be in a story format.\", \"output\": \"Once upon a time, there was a dad who loved telling dad jokes. One day, he decided to take his son fishing at the lake. As they were sitting by the water, the dad suddenly exclaimed, 'I caught a shoe!' His son was confused and asked, 'How did you catch a shoe while fishing?' The dad replied with a grin, 'Well, I guess you can say I'm quite the catch of the day!'\"},\n",
    "    {\"input\": \"Tell me a dad joke. The joke should be in a story format.\", \"output\": \"Once upon a time, there was a dad who loved telling jokes. One day, he decided to try his hand at stand-up comedy. He got up on stage and started his routine with a classic dad joke: 'Why did the scarecrow win an award? Because he was outstanding in his field!' The audience groaned at the pun, but the dad couldn't help but smile. He knew that his dad jokes may not always be a hit, but they never failed to bring a smile to his face. And that was all that mattered to him.\"},\n",
    "]"
   ]
  },
  {
   "cell_type": "code",
   "execution_count": 3,
   "metadata": {},
   "outputs": [
    {
     "name": "stdout",
     "output_type": "stream",
     "text": [
      "Human: Tell me a dad joke. The joke should be in a story format.\n",
      "AI: Once upon a time, there was a man who loved to tell dad jokes. One day, he decided to start a business selling shoes made out of banana peels. When asked why he chose such a strange business idea, he replied, 'I wanted to make sure everyone had a-peeling footwear!'\n",
      "Human: Tell me a dad joke. The joke should be in a story format.\n",
      "AI: Once upon a time, there was a dad who loved telling dad jokes. One day, he decided to take his son fishing at the lake. As they were sitting by the water, the dad suddenly exclaimed, 'I caught a shoe!' His son was confused and asked, 'How did you catch a shoe while fishing?' The dad replied with a grin, 'Well, I guess you can say I'm quite the catch of the day!'\n",
      "Human: Tell me a dad joke. The joke should be in a story format.\n",
      "AI: Once upon a time, there was a dad who loved telling jokes. One day, he decided to try his hand at stand-up comedy. He got up on stage and started his routine with a classic dad joke: 'Why did the scarecrow win an award? Because he was outstanding in his field!' The audience groaned at the pun, but the dad couldn't help but smile. He knew that his dad jokes may not always be a hit, but they never failed to bring a smile to his face. And that was all that mattered to him.\n"
     ]
    }
   ],
   "source": [
    "# This is a prompt template used to format each individual example.\n",
    "example_prompt = ChatPromptTemplate.from_messages(\n",
    "    [\n",
    "        (\"human\", \"{input}\"),\n",
    "        (\"ai\", \"{output}\"),\n",
    "    ]\n",
    ")\n",
    "few_shot_prompt = FewShotChatMessagePromptTemplate(\n",
    "    example_prompt=example_prompt,\n",
    "    examples=examples,\n",
    ")\n",
    "\n",
    "print(few_shot_prompt.format())"
   ]
  },
  {
   "cell_type": "code",
   "execution_count": 4,
   "metadata": {},
   "outputs": [],
   "source": [
    "#add a final prompt\n",
    "final_prompt = ChatPromptTemplate.from_messages(\n",
    "    [\n",
    "        (\"system\", \"You end all your jokes with the phrase, 'Bazinga'.\"),\n",
    "        few_shot_prompt,\n",
    "        (\"human\", \"{input}\"),\n",
    "    ]\n",
    ")"
   ]
  },
  {
   "cell_type": "code",
   "execution_count": 8,
   "metadata": {},
   "outputs": [
    {
     "data": {
      "text/plain": [
       "\"Once upon a time, there was a dad who loved telling jokes. One day, he decided to surprise his family by learning how to juggle. After practicing for weeks, he finally felt confident enough to show off his new skill. As he started juggling, his family watched in amazement. But suddenly, one of the balls slipped from his hands and flew past his head. The dad quickly caught it behind his back and exclaimed, 'Don't worry, I've got your back!' Bazinga.\""
      ]
     },
     "execution_count": 8,
     "metadata": {},
     "output_type": "execute_result"
    }
   ],
   "source": [
    "from langchain_openai import ChatOpenAI\n",
    "\n",
    "chain = final_prompt | ChatOpenAI(temperature= 0.9)\n",
    "\n",
    "chain.invoke({\"input\": \"Tell me a dad joke. The joke should be in a story format.\"}).content"
   ]
  },
  {
   "cell_type": "code",
   "execution_count": null,
   "metadata": {},
   "outputs": [],
   "source": []
  }
 ],
 "metadata": {
  "kernelspec": {
   "display_name": "Python 3",
   "language": "python",
   "name": "python3"
  },
  "language_info": {
   "codemirror_mode": {
    "name": "ipython",
    "version": 3
   },
   "file_extension": ".py",
   "mimetype": "text/x-python",
   "name": "python",
   "nbconvert_exporter": "python",
   "pygments_lexer": "ipython3",
   "version": "3.11.2"
  }
 },
 "nbformat": 4,
 "nbformat_minor": 2
}
